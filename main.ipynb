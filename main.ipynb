{
 "cells": [
  {
   "cell_type": "code",
   "execution_count": 6,
   "id": "535e8f19",
   "metadata": {},
   "outputs": [],
   "source": [
    "import pandas as pd\n",
    "import importlib\n",
    "\n",
    "# Reload configuration module\n",
    "import config\n",
    "importlib.reload(config)\n",
    "\n",
    "# Data I/O\n",
    "from data_loading import load_data, save_data\n",
    "\n",
    "# Configuration constants\n",
    "from config import (\n",
    "    CATEGORIES_TO_BE_RENAMED,\n",
    "    CATEGORIES_TO_BE_RENAMED2,\n",
    "    CATEGORIES_TO_BE_RENAMED3,\n",
    "    CATEGORIES_TO_BE_RENAMED5,\n",
    "    CATEGORIES_TO_BE_MERGED,\n",
    "    CATEGORIES_TO_BE_MERGED2,\n",
    "    DESIRED_ORDER1,\n",
    "    DESIRED_ORDER2,\n",
    "    REQUIRED,\n",
    "    DISALLOWED,\n",
    "    REQUIRED2,\n",
    "    DISALLOWED2,\n",
    ")\n",
    "\n",
    "# Cleaning functions\n",
    "from cleaning_steps import (\n",
    "    clean_ts,\n",
    "    extract_husnummer,\n",
    "    standardize_abbreviations,\n",
    "    batch_standardize_location_descriptions,\n",
    "    split_vejnavn_beskrivelse,\n",
    "    add_tællestedstype,\n",
    "    update_coordinates,\n",
    "    format_date_column,\n",
    "    filter_negative_counts,\n",
    "    reorder_columns,\n",
    "    rename_categories,\n",
    "    remove_categories,\n",
    "    merge_categories,\n",
    "    ÅDT_and_HDT,\n",
    "    concat_df,\n",
    "    total,\n",
    "    rename_cykler_categories,\n",
    ")"
   ]
  },
  {
   "cell_type": "code",
   "execution_count": 7,
   "id": "a25faef3",
   "metadata": {},
   "outputs": [
    {
     "name": "stdout",
     "output_type": "stream",
     "text": [
      "Lag0 completed successfully.\n"
     ]
    }
   ],
   "source": [
    "def Lag0():\n",
    "    # 0. Load the main dataset\n",
    "    df = load_data(config.INPUT_FILE)\n",
    "    df_tilføjelse = load_data(config.MANUELLE_TILFØJELSER)\n",
    "\n",
    "    # 1. Concat the dataframes\n",
    "    df = concat_df(df, df_tilføjelse)\n",
    "    save_data(df, config.OUTPUT_FILE_CONCAT_DF)\n",
    "\n",
    "    # 2. Clean TS column\n",
    "    df = clean_ts(df)\n",
    "    save_data(df, config.OUTPUT_FILE_CLEANED_TS)\n",
    "\n",
    "    # 3. Process VEJNAVN and extract HUSNUMMER\n",
    "    df = extract_husnummer(df)\n",
    "    save_data(df, config.OUTPUT_FILE_VEJNAVN_HUSNUMMER)\n",
    "\n",
    "    # 4. Standardize abbreviations in VEJNAVN\n",
    "    df = standardize_abbreviations(df)\n",
    "    save_data(df, config.OUTPUT_FILE_STANDARDIZED_ABBREVIATIONS)\n",
    "\n",
    "    # 5. Apply batch standardization for location descriptions\n",
    "    df = batch_standardize_location_descriptions(df)\n",
    "    save_data(df, config.OUTPUT_FILE_CLEANED_VEJNAVNE)\n",
    "\n",
    "    # 6. Split VEJNAVN into VEJNAVN and BESKRIVELSE\n",
    "    df = split_vejnavn_beskrivelse(df)\n",
    "    save_data(df, config.OUTPUT_FILE_SPLIT_VEJNAVN)\n",
    "\n",
    "    # 7. Load station information and merge it into main DataFrame\n",
    "    station_df = load_data(config.STATION_INFO_FILE)\n",
    "    df = add_tællestedstype(df, station_df)\n",
    "    save_data(df, config.OUTPUT_FILE_TÆLLESTEDTYPE)\n",
    "\n",
    "    # 8. Update GPS coordinates\n",
    "    df = update_coordinates(df)\n",
    "    save_data(df, config.OUTPUT_FILE_COORDINATES)\n",
    "\n",
    "    # 9. Format the DATO column\n",
    "    df = format_date_column(df)\n",
    "    save_data(df, config.OUTPUT_FILE_FIXED_DATO)\n",
    "\n",
    "    # 10. Calculate total column\n",
    "    df = total(df)\n",
    "    save_data(df, config.OUTPUT_FILE_TOTAL_COLUMN)\n",
    "\n",
    "    # 11. Filter categories and negative counts\n",
    "    df = filter_negative_counts(df)\n",
    "    save_data(df, config.OUTPUT_FILE_FILTERED_TOTALS)\n",
    "\n",
    "    # 12. Reorder columns\n",
    "    df = reorder_columns(df, DESIRED_ORDER1)\n",
    "    save_data(df, config.OUTPUT_FILE_REORDER_COLUMNS)\n",
    "\n",
    "    # 13. Rename categories part 1\n",
    "    df = rename_categories(df, CATEGORIES_TO_BE_RENAMED)\n",
    "    save_data(df, config.OUTPUT_FILE_RENAMED_CATEGORIES)\n",
    "    \n",
    "    # 14. Renmane \"Cykler i alt\" til \"Cykler\"\n",
    "    df = rename_cykler_categories(df, REQUIRED, DISALLOWED)\n",
    "    save_data(df, config.OUTPPUT_FILE_CONTROL_OF_CYKLER_I_ALT)\n",
    "\n",
    "    # 15. Remove 'I alt' categories\n",
    "    df = remove_categories(df)\n",
    "    save_data(df, config.OUTPUT_FILE_REMOVE_CATEGORIES)\n",
    "    \n",
    "    # 16. Save Lag0 \n",
    "    save_data(df, config.OUTPUT_FILE_LAG0)\n",
    "    print(\"Lag0 completed successfully.\")\n",
    "if __name__ == \"__main__\":\n",
    "    Lag0()\n",
    "\n"
   ]
  },
  {
   "cell_type": "code",
   "execution_count": 8,
   "id": "5d092eb2",
   "metadata": {},
   "outputs": [
    {
     "name": "stderr",
     "output_type": "stream",
     "text": [
      "/Users/jeppebondebakkensen/Library/Mobile Documents/com~apple~CloudDocs/Mine mapper/Områder/Arbejde/Manuelle tællinger v6/data_loading.py:20: DtypeWarning: Columns (3) have mixed types. Specify dtype option on import or set low_memory=False.\n",
      "  df = pd.read_csv(filepath, **kwargs)\n"
     ]
    },
    {
     "name": "stdout",
     "output_type": "stream",
     "text": [
      "Lag1 completed successfully.\n"
     ]
    }
   ],
   "source": [
    "def Lag1():\n",
    "    df = load_data(config.OUTPUT_FILE_LAG0)\n",
    "\n",
    "    # 17. Merge categories part 1\n",
    "    df = merge_categories(df, CATEGORIES_TO_BE_MERGED)\n",
    "    save_data(df, config.OUTPUT_FILE_MERGED_CATEGORIES)\n",
    "\n",
    "    # 18. Rename categories part 2\n",
    "    df = rename_categories(df, CATEGORIES_TO_BE_RENAMED2)\n",
    "    save_data(df, config.OUTPUT_FILE_RENAMED_CATEGORIES_PART2)\n",
    "\n",
    "    # 19. Merge categories part 2\n",
    "    df = merge_categories(df, CATEGORIES_TO_BE_MERGED2)\n",
    "    save_data(df, config.OUTPUT_FILE_MERGED_CATEGORIES_PART2)\n",
    "\n",
    "    # 20. Ensure correct columns\n",
    "    df = rename_cykler_categories(df, REQUIRED2, DISALLOWED2)\n",
    "    save_data(df, config.OUTPUT_FILE_CYKLER_CATEGORIES)\n",
    "\n",
    "    # 21. Rename categories part 3\n",
    "    df = rename_categories(df, CATEGORIES_TO_BE_RENAMED3)\n",
    "    save_data(df, config.OUTPUT_FILE_RENAMED_CATEGORIES_PART3)\n",
    "    \n",
    "    # 22. Save Lag1 \n",
    "    save_data(df, config.OUTPUT_FILE_LAG1)\n",
    "    print(\"Lag1 completed successfully.\")\n",
    "    \n",
    "if __name__ == \"__main__\":\n",
    "    Lag1()\n"
   ]
  },
  {
   "cell_type": "code",
   "execution_count": 9,
   "id": "3b4ae753",
   "metadata": {},
   "outputs": [
    {
     "name": "stderr",
     "output_type": "stream",
     "text": [
      "/Users/jeppebondebakkensen/Library/Mobile Documents/com~apple~CloudDocs/Mine mapper/Områder/Arbejde/Manuelle tællinger v6/cleaning_steps.py:28: FutureWarning: Series.replace without 'value' and with non-dict-like 'to_replace' is deprecated and will raise in a future version. Explicitly specify the new values instead.\n",
      "  df[\"KATEGORI\"] = df[\"KATEGORI\"].replace(rename_dict)\n"
     ]
    },
    {
     "name": "stdout",
     "output_type": "stream",
     "text": [
      "Lag2 completed successfully.\n"
     ]
    }
   ],
   "source": [
    "def Lag2():\n",
    "    # Load the dataset saved by Lag0\n",
    "    df = load_data(config.OUTPUT_FILE_LAG1)\n",
    "    \n",
    "    # 23. Rename categories PART 4\n",
    "    df = rename_categories(df, config.CATEGORIES_TO_BE_RENAMED4)\n",
    "    save_data(df, config.OUTPUT_FILE_RENAMED_CATEGORIES_PART4)\n",
    "\n",
    "    # 24. Merge categories PART 3\n",
    "    df = merge_categories(df)\n",
    "    save_data(df, config.OUTPUT_FILE_MERGED_CATEGORIES_PART3)\n",
    "    \n",
    "    # 31. Save final output\n",
    "    print(\"Lag2 completed successfully.\")\n",
    "    save_data(df, config.OUTPUT_LAG2)\n",
    "    \n",
    "if __name__ == \"__main__\":\n",
    "    Lag2()  "
   ]
  },
  {
   "cell_type": "code",
   "execution_count": 10,
   "id": "c96a1691",
   "metadata": {},
   "outputs": [
    {
     "name": "stderr",
     "output_type": "stream",
     "text": [
      "/Users/jeppebondebakkensen/Library/Mobile Documents/com~apple~CloudDocs/Mine mapper/Områder/Arbejde/Manuelle tællinger v6/cleaning_steps.py:28: FutureWarning: Series.replace without 'value' and with non-dict-like 'to_replace' is deprecated and will raise in a future version. Explicitly specify the new values instead.\n",
      "  df[\"KATEGORI\"] = df[\"KATEGORI\"].replace(rename_dict)\n"
     ]
    },
    {
     "name": "stdout",
     "output_type": "stream",
     "text": [
      "Renaming categories part 6...\n",
      "Pipeline completed successfully.\n"
     ]
    }
   ],
   "source": [
    "def Lag3():\n",
    "    df = load_data(config.OUTPUT_LAG2)\n",
    "    df_amgermotervejen = load_data(config.AMGAGERMOTERVEJEN)\n",
    "\n",
    "    # 26. RENAME CATEGORIES PART 5\n",
    "    df = rename_categories(df, CATEGORIES_TO_BE_RENAMED5)\n",
    "    save_data(df, config.OUTPUT_FILE_RENAMED_CATEGORIES_PART5)\n",
    "    \n",
    "    # 27. Merge categories PART 4\n",
    "    df = merge_categories(df)\n",
    "    save_data(df, config.OUTPUT_FILE_MERGED_CATEGORIES_PART4)\n",
    "    \n",
    "    # 28. Rename categories part 6\n",
    "    print(\"Renaming categories part 6...\")\n",
    "    df = rename_categories(df, config.CATEGORIES_TO_BE_RENAMED6)\n",
    "    save_data(df, config.OUTPUT_FILE_RENAMED_CATEGORIES_PART6)\n",
    "    \n",
    "    # 29. Rereorder columns part 2\n",
    "    df = reorder_columns(df, DESIRED_ORDER2)\n",
    "    save_data(df, config.OUTPUT_FILE_REORDER_COLUMNS2)\n",
    "\n",
    "    # 30. Add AMAGERMOTERVEJEN\n",
    "    df = concat_df(df, df_amgermotervejen)\n",
    "    save_data(df, config.OUTPUT_FILE_AMAGEREMOTORVEJEN)\n",
    "\n",
    "    # 31. Add ÅDT and HDT\n",
    "    df = ÅDT_and_HDT(df)\n",
    "    save_data(df, config.OUTPUT_FILE_ÅDT_AND_HDT)\n",
    "\n",
    "    # 32. Save final output\n",
    "    save_data(df, config.OUTPUT_LAG3)\n",
    "\n",
    "    print(\"Pipeline completed successfully.\")\n",
    "    \n",
    "    \n",
    "if __name__ == \"__main__\":\n",
    "    Lag3() "
   ]
  }
 ],
 "metadata": {
  "kernelspec": {
   "display_name": "arbejde",
   "language": "python",
   "name": "python3"
  },
  "language_info": {
   "codemirror_mode": {
    "name": "ipython",
    "version": 3
   },
   "file_extension": ".py",
   "mimetype": "text/x-python",
   "name": "python",
   "nbconvert_exporter": "python",
   "pygments_lexer": "ipython3",
   "version": "3.12.2"
  }
 },
 "nbformat": 4,
 "nbformat_minor": 5
}
